{
 "cells": [
  {
   "cell_type": "code",
   "execution_count": 2,
   "metadata": {},
   "outputs": [],
   "source": [
    "from collections import Counter\n",
    "import pandas as pd"
   ]
  },
  {
   "cell_type": "code",
   "execution_count": 3,
   "metadata": {},
   "outputs": [],
   "source": [
    "df = pd.read_csv('bases/201901_RemuneracaoMilitares.csv', encoding ='latin1', \n",
    "                 engine='python', quotechar='\"', delimiter=\";\", decimal=',')"
   ]
  },
  {
   "cell_type": "code",
   "execution_count": null,
   "metadata": {},
   "outputs": [],
   "source": [
    "df.head()"
   ]
  },
  {
   "cell_type": "code",
   "execution_count": null,
   "metadata": {},
   "outputs": [],
   "source": [
    "df.info()"
   ]
  },
  {
   "cell_type": "code",
   "execution_count": null,
   "metadata": {},
   "outputs": [],
   "source": [
    "df.sum(axis = 0, skipna = True)"
   ]
  },
  {
   "cell_type": "code",
   "execution_count": null,
   "metadata": {},
   "outputs": [],
   "source": [
    "df.count()"
   ]
  },
  {
   "cell_type": "code",
   "execution_count": null,
   "metadata": {},
   "outputs": [],
   "source": [
    "df['REMUNERAÇÃO BÁSICA BRUTA (R$)'].sum()"
   ]
  },
  {
   "cell_type": "code",
   "execution_count": null,
   "metadata": {},
   "outputs": [],
   "source": [
    "# Média de Salário\n",
    "df['REMUNERAÇÃO BÁSICA BRUTA (R$)'].mean().round(2)"
   ]
  },
  {
   "cell_type": "code",
   "execution_count": 5,
   "metadata": {},
   "outputs": [
    {
     "data": {
      "text/plain": [
       "1602271796.36"
      ]
     },
     "execution_count": 5,
     "metadata": {},
     "output_type": "execute_result"
    }
   ],
   "source": [
    "df['REMUNERAÇÃO APÓS DEDUÇÕES OBRIGATÓRIAS (R$)'].sum().round(2)"
   ]
  },
  {
   "cell_type": "code",
   "execution_count": null,
   "metadata": {},
   "outputs": [],
   "source": [
    "df['REMUNERAÇÃO BÁSICA BRUTA (R$)'].max()"
   ]
  },
  {
   "cell_type": "code",
   "execution_count": 8,
   "metadata": {},
   "outputs": [
    {
     "data": {
      "text/plain": [
       "133836.2"
      ]
     },
     "execution_count": 8,
     "metadata": {},
     "output_type": "execute_result"
    }
   ],
   "source": [
    "df['REMUNERAÇÃO APÓS DEDUÇÕES OBRIGATÓRIAS (R$)'].max()"
   ]
  },
  {
   "cell_type": "code",
   "execution_count": 18,
   "metadata": {},
   "outputs": [
    {
     "data": {
      "text/html": [
       "<div>\n",
       "<style scoped>\n",
       "    .dataframe tbody tr th:only-of-type {\n",
       "        vertical-align: middle;\n",
       "    }\n",
       "\n",
       "    .dataframe tbody tr th {\n",
       "        vertical-align: top;\n",
       "    }\n",
       "\n",
       "    .dataframe thead th {\n",
       "        text-align: right;\n",
       "    }\n",
       "</style>\n",
       "<table border=\"1\" class=\"dataframe\">\n",
       "  <thead>\n",
       "    <tr style=\"text-align: right;\">\n",
       "      <th></th>\n",
       "      <th>NOME</th>\n",
       "      <th>REMUNERAÇÃO BÁSICA BRUTA (R$)</th>\n",
       "      <th>REMUNERAÇÃO BÁSICA BRUTA (U$)</th>\n",
       "      <th>ABATE-TETO (R$)</th>\n",
       "      <th>ABATE-TETO (U$)</th>\n",
       "      <th>GRATIFICAÇÃO NATALINA (R$)</th>\n",
       "      <th>GRATIFICAÇÃO NATALINA (U$)</th>\n",
       "      <th>ABATE-TETO DA GRATIFICAÇÃO NATALINA (R$)</th>\n",
       "      <th>ABATE-TETO DA GRATIFICAÇÃO NATALINA (U$)</th>\n",
       "      <th>FÉRIAS (R$)</th>\n",
       "      <th>FÉRIAS (U$)</th>\n",
       "      <th>OUTRAS REMUNERAÇÕES EVENTUAIS (R$)</th>\n",
       "      <th>OUTRAS REMUNERAÇÕES EVENTUAIS (U$)</th>\n",
       "      <th>IRRF (R$)</th>\n",
       "      <th>IRRF (U$)</th>\n",
       "      <th>PSS/RPGS (R$)</th>\n",
       "      <th>PSS/RPGS (U$)</th>\n",
       "      <th>DEMAIS DEDUÇÕES (R$)</th>\n",
       "      <th>DEMAIS DEDUÇÕES (U$)</th>\n",
       "      <th>PENSÃO MILITAR (R$)</th>\n",
       "    </tr>\n",
       "  </thead>\n",
       "  <tbody>\n",
       "    <tr>\n",
       "      <th>67569</th>\n",
       "      <td>DANIELA NASSER E SILVA DE CAMPOS</td>\n",
       "      <td>0.0</td>\n",
       "      <td>0.0</td>\n",
       "      <td>0.0</td>\n",
       "      <td>0.0</td>\n",
       "      <td>0.0</td>\n",
       "      <td>0.0</td>\n",
       "      <td>0.0</td>\n",
       "      <td>0.0</td>\n",
       "      <td>0.0</td>\n",
       "      <td>0.0</td>\n",
       "      <td>140955.71</td>\n",
       "      <td>0.0</td>\n",
       "      <td>0.0</td>\n",
       "      <td>0.0</td>\n",
       "      <td>0.0</td>\n",
       "      <td>0.0</td>\n",
       "      <td>7119.51</td>\n",
       "      <td>0.0</td>\n",
       "      <td>0.0</td>\n",
       "    </tr>\n",
       "  </tbody>\n",
       "</table>\n",
       "</div>"
      ],
      "text/plain": [
       "                                   NOME  REMUNERAÇÃO BÁSICA BRUTA (R$)  \\\n",
       "67569  DANIELA NASSER E SILVA DE CAMPOS                            0.0   \n",
       "\n",
       "       REMUNERAÇÃO BÁSICA BRUTA (U$)  ABATE-TETO (R$)  ABATE-TETO (U$)  \\\n",
       "67569                            0.0              0.0              0.0   \n",
       "\n",
       "       GRATIFICAÇÃO NATALINA (R$)  GRATIFICAÇÃO NATALINA (U$)  \\\n",
       "67569                         0.0                         0.0   \n",
       "\n",
       "       ABATE-TETO DA GRATIFICAÇÃO NATALINA (R$)  \\\n",
       "67569                                       0.0   \n",
       "\n",
       "       ABATE-TETO DA GRATIFICAÇÃO NATALINA (U$)  FÉRIAS (R$)  FÉRIAS (U$)  \\\n",
       "67569                                       0.0          0.0          0.0   \n",
       "\n",
       "       OUTRAS REMUNERAÇÕES EVENTUAIS (R$)  OUTRAS REMUNERAÇÕES EVENTUAIS (U$)  \\\n",
       "67569                           140955.71                                 0.0   \n",
       "\n",
       "       IRRF (R$)  IRRF (U$)  PSS/RPGS (R$)  PSS/RPGS (U$)  \\\n",
       "67569        0.0        0.0            0.0            0.0   \n",
       "\n",
       "       DEMAIS DEDUÇÕES (R$)  DEMAIS DEDUÇÕES (U$)  PENSÃO MILITAR (R$)  \n",
       "67569               7119.51                   0.0                  0.0  "
      ]
     },
     "execution_count": 18,
     "metadata": {},
     "output_type": "execute_result"
    }
   ],
   "source": [
    "df[df['REMUNERAÇÃO APÓS DEDUÇÕES OBRIGATÓRIAS (R$)'] == 133836.2].loc[:, 'NOME':'PENSÃO MILITAR (R$)']"
   ]
  },
  {
   "cell_type": "code",
   "execution_count": null,
   "metadata": {},
   "outputs": [],
   "source": [
    "df['REMUNERAÇÃO BÁSICA BRUTA (R$)'].min(level=10)"
   ]
  },
  {
   "cell_type": "code",
   "execution_count": null,
   "metadata": {},
   "outputs": [],
   "source": []
  }
 ],
 "metadata": {
  "kernelspec": {
   "display_name": "Python 3",
   "language": "python",
   "name": "python3"
  },
  "language_info": {
   "codemirror_mode": {
    "name": "ipython",
    "version": 3
   },
   "file_extension": ".py",
   "mimetype": "text/x-python",
   "name": "python",
   "nbconvert_exporter": "python",
   "pygments_lexer": "ipython3",
   "version": "3.6.8"
  }
 },
 "nbformat": 4,
 "nbformat_minor": 2
}
